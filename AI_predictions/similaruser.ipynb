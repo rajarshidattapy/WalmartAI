{
 "cells": [
  {
   "cell_type": "code",
   "execution_count": null,
   "id": "e5e77e74",
   "metadata": {},
   "outputs": [
    {
     "ename": "",
     "evalue": "",
     "output_type": "error",
     "traceback": [
      "\u001b[1;31mThe kernel failed to start due to the missing module 'packaging'. Consider installing this module.\n",
      "\u001b[1;31mClick <a href='https://aka.ms/kernelFailuresMissingModule'>here</a> for more info."
     ]
    }
   ],
   "source": [
    "import pandas as pd\n",
    "import numpy as np\n",
    "from sklearn.metrics.pairwise import cosine_similarity\n",
    "import pickle"
   ]
  },
  {
   "cell_type": "code",
   "execution_count": 7,
   "id": "474f0bbf",
   "metadata": {},
   "outputs": [],
   "source": [
    "# Step 1: Load dataset\n",
    "df = pd.read_csv(\"Our_dataset.csv\")\n",
    "df['BRAND'] = df['BRAND'].str.strip()\n",
    "df['tid'] = df['tid'].astype(str)"
   ]
  },
  {
   "cell_type": "code",
   "execution_count": null,
   "id": "d4f3b412",
   "metadata": {},
   "outputs": [],
   "source": [
    "\n",
    "user_brand_matrix = df.pivot_table(index='tid', columns='BRAND', aggfunc='size', fill_value=0)"
   ]
  },
  {
   "cell_type": "code",
   "execution_count": null,
   "id": "99ddcea6",
   "metadata": {},
   "outputs": [],
   "source": [
    "\n",
    "similarity_matrix = cosine_similarity(user_brand_matrix)"
   ]
  },
  {
   "cell_type": "code",
   "execution_count": null,
   "id": "aefda800",
   "metadata": {},
   "outputs": [],
   "source": [
    "tid_index_mapping = dict(enumerate(user_brand_matrix.index))"
   ]
  },
  {
   "cell_type": "code",
   "execution_count": null,
   "id": "c8529ec1",
   "metadata": {},
   "outputs": [],
   "source": [
    "\n",
    "similar_users_dict = {}\n",
    "\n",
    "for i, user in enumerate(user_brand_matrix.index):\n",
    "    sim_scores = list(enumerate(similarity_matrix[i]))\n",
    "    sim_scores = sorted(sim_scores, key=lambda x: x[1], reverse=True)\n",
    "        # Get top 3 most similar users (excluding self)\n",
    "    top_similar = [tid_index_mapping[idx] for idx, _ in sim_scores[1:4]]\n",
    "    similar_users_dict[user] = top_similar"
   ]
  },
  {
   "cell_type": "code",
   "execution_count": null,
   "id": "3dbae301",
   "metadata": {},
   "outputs": [
    {
     "name": "stdout",
     "output_type": "stream",
     "text": [
      "✅ similar_users.pkl created successfully.\n"
     ]
    }
   ],
   "source": [
    "\n",
    "with open(\"similar_users.pkl\", \"wb\") as f:\n",
    "    pickle.dump(similar_users_dict, f)\n",
    "\n",
    "print(\"✅ similar_users.pkl created successfully.\")"
   ]
  },
  {
   "cell_type": "code",
   "execution_count": 15,
   "id": "3bd3df04",
   "metadata": {},
   "outputs": [
    {
     "name": "stdout",
     "output_type": "stream",
     "text": [
      "['T7981U0092', 'T2312U0017', 'T1084U0123']\n"
     ]
    }
   ],
   "source": [
    "import pickle\n",
    "\n",
    "with open(\"similar_users.pkl\", \"rb\") as f:\n",
    "    similar_users = pickle.load(f)\n",
    "\n",
    "print(similar_users.get(\"T1005U0192\", \"User not found\"))"
   ]
  }
 ],
 "metadata": {
  "kernelspec": {
   "display_name": "Python 3",
   "language": "python",
   "name": "python3"
  },
  "language_info": {
   "codemirror_mode": {
    "name": "ipython",
    "version": 3
   },
   "file_extension": ".py",
   "mimetype": "text/x-python",
   "name": "python",
   "nbconvert_exporter": "python",
   "pygments_lexer": "ipython3",
   "version": "3.12.8"
  }
 },
 "nbformat": 4,
 "nbformat_minor": 5
}
