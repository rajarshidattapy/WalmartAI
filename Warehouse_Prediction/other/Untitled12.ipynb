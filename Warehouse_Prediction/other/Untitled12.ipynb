{
  "nbformat": 4,
  "nbformat_minor": 0,
  "metadata": {
    "colab": {
      "provenance": []
    },
    "kernelspec": {
      "name": "python3",
      "display_name": "Python 3"
    },
    "language_info": {
      "name": "python"
    }
  },
  "cells": [
    {
      "cell_type": "code",
      "execution_count": 1,
      "metadata": {
        "id": "h3UKYOvhj9vl"
      },
      "outputs": [],
      "source": [
        "import numpy as np\n",
        "import pandas as pd\n",
        "import matplotlib.pyplot as plt\n",
        "import seaborn as sns"
      ]
    },
    {
      "cell_type": "code",
      "source": [
        "df = pd.read_csv('/content/supplier_delivery_logistics_1000.csv')"
      ],
      "metadata": {
        "id": "Z2cUO7mokEsK"
      },
      "execution_count": 2,
      "outputs": []
    },
    {
      "cell_type": "code",
      "source": [
        "df"
      ],
      "metadata": {
        "colab": {
          "base_uri": "https://localhost:8080/",
          "height": 478
        },
        "id": "jp3px1fZkEut",
        "outputId": "b253ee7b-20b4-44fc-cf44-cfe94dc2520d"
      },
      "execution_count": 3,
      "outputs": [
        {
          "output_type": "execute_result",
          "data": {
            "text/plain": [
              "     SUPPLIER_NAME     PRODUCT_NAME LAST_ORDER_DATE EXPECTED_DELIVERY_DATE  \\\n",
              "0        FruitNova          1L Milk      2025-06-05             2025-06-07   \n",
              "1        FruitNova       Toothpaste      2025-06-16             2025-06-20   \n",
              "2    GrainSupplies       Toothpaste      2025-06-04             2025-06-08   \n",
              "3     FreshDairyCo          1L Milk      2025-06-17             2025-06-22   \n",
              "4        FruitNova  Bananas 1 Dozen      2025-06-20             2025-06-23   \n",
              "..             ...              ...             ...                    ...   \n",
              "995       SoapMart  Bananas 1 Dozen      2025-06-16             2025-06-19   \n",
              "996       SoapMart      Carrots 1kg      2025-06-16             2025-06-18   \n",
              "997     ToothGoods       Toothpaste      2025-06-04             2025-06-09   \n",
              "998  VeggieFarmers         Rice 5kg      2025-06-19             2025-06-23   \n",
              "999  VeggieFarmers         Rice 5kg      2025-06-05             2025-06-08   \n",
              "\n",
              "    ACTUAL_DELIVERY_DATE SHIPPING_LOCATION  ORDER_UNITS  \n",
              "0             2025-06-07       Los Angeles          297  \n",
              "1             2025-06-22            Dallas          170  \n",
              "2             2025-06-11          New York          274  \n",
              "3             2025-06-21     San Francisco          286  \n",
              "4             2025-06-23          New York           77  \n",
              "..                   ...               ...          ...  \n",
              "995           2025-06-22          New York          143  \n",
              "996           2025-06-19           Chicago          171  \n",
              "997           2025-06-09             Miami          102  \n",
              "998           2025-06-26          New York           75  \n",
              "999           2025-06-07     San Francisco          267  \n",
              "\n",
              "[1000 rows x 7 columns]"
            ],
            "text/html": [
              "\n",
              "  <div id=\"df-a75a9358-305b-4862-81f2-03bce4d2ee44\" class=\"colab-df-container\">\n",
              "    <div>\n",
              "<style scoped>\n",
              "    .dataframe tbody tr th:only-of-type {\n",
              "        vertical-align: middle;\n",
              "    }\n",
              "\n",
              "    .dataframe tbody tr th {\n",
              "        vertical-align: top;\n",
              "    }\n",
              "\n",
              "    .dataframe thead th {\n",
              "        text-align: right;\n",
              "    }\n",
              "</style>\n",
              "<table border=\"1\" class=\"dataframe\">\n",
              "  <thead>\n",
              "    <tr style=\"text-align: right;\">\n",
              "      <th></th>\n",
              "      <th>SUPPLIER_NAME</th>\n",
              "      <th>PRODUCT_NAME</th>\n",
              "      <th>LAST_ORDER_DATE</th>\n",
              "      <th>EXPECTED_DELIVERY_DATE</th>\n",
              "      <th>ACTUAL_DELIVERY_DATE</th>\n",
              "      <th>SHIPPING_LOCATION</th>\n",
              "      <th>ORDER_UNITS</th>\n",
              "    </tr>\n",
              "  </thead>\n",
              "  <tbody>\n",
              "    <tr>\n",
              "      <th>0</th>\n",
              "      <td>FruitNova</td>\n",
              "      <td>1L Milk</td>\n",
              "      <td>2025-06-05</td>\n",
              "      <td>2025-06-07</td>\n",
              "      <td>2025-06-07</td>\n",
              "      <td>Los Angeles</td>\n",
              "      <td>297</td>\n",
              "    </tr>\n",
              "    <tr>\n",
              "      <th>1</th>\n",
              "      <td>FruitNova</td>\n",
              "      <td>Toothpaste</td>\n",
              "      <td>2025-06-16</td>\n",
              "      <td>2025-06-20</td>\n",
              "      <td>2025-06-22</td>\n",
              "      <td>Dallas</td>\n",
              "      <td>170</td>\n",
              "    </tr>\n",
              "    <tr>\n",
              "      <th>2</th>\n",
              "      <td>GrainSupplies</td>\n",
              "      <td>Toothpaste</td>\n",
              "      <td>2025-06-04</td>\n",
              "      <td>2025-06-08</td>\n",
              "      <td>2025-06-11</td>\n",
              "      <td>New York</td>\n",
              "      <td>274</td>\n",
              "    </tr>\n",
              "    <tr>\n",
              "      <th>3</th>\n",
              "      <td>FreshDairyCo</td>\n",
              "      <td>1L Milk</td>\n",
              "      <td>2025-06-17</td>\n",
              "      <td>2025-06-22</td>\n",
              "      <td>2025-06-21</td>\n",
              "      <td>San Francisco</td>\n",
              "      <td>286</td>\n",
              "    </tr>\n",
              "    <tr>\n",
              "      <th>4</th>\n",
              "      <td>FruitNova</td>\n",
              "      <td>Bananas 1 Dozen</td>\n",
              "      <td>2025-06-20</td>\n",
              "      <td>2025-06-23</td>\n",
              "      <td>2025-06-23</td>\n",
              "      <td>New York</td>\n",
              "      <td>77</td>\n",
              "    </tr>\n",
              "    <tr>\n",
              "      <th>...</th>\n",
              "      <td>...</td>\n",
              "      <td>...</td>\n",
              "      <td>...</td>\n",
              "      <td>...</td>\n",
              "      <td>...</td>\n",
              "      <td>...</td>\n",
              "      <td>...</td>\n",
              "    </tr>\n",
              "    <tr>\n",
              "      <th>995</th>\n",
              "      <td>SoapMart</td>\n",
              "      <td>Bananas 1 Dozen</td>\n",
              "      <td>2025-06-16</td>\n",
              "      <td>2025-06-19</td>\n",
              "      <td>2025-06-22</td>\n",
              "      <td>New York</td>\n",
              "      <td>143</td>\n",
              "    </tr>\n",
              "    <tr>\n",
              "      <th>996</th>\n",
              "      <td>SoapMart</td>\n",
              "      <td>Carrots 1kg</td>\n",
              "      <td>2025-06-16</td>\n",
              "      <td>2025-06-18</td>\n",
              "      <td>2025-06-19</td>\n",
              "      <td>Chicago</td>\n",
              "      <td>171</td>\n",
              "    </tr>\n",
              "    <tr>\n",
              "      <th>997</th>\n",
              "      <td>ToothGoods</td>\n",
              "      <td>Toothpaste</td>\n",
              "      <td>2025-06-04</td>\n",
              "      <td>2025-06-09</td>\n",
              "      <td>2025-06-09</td>\n",
              "      <td>Miami</td>\n",
              "      <td>102</td>\n",
              "    </tr>\n",
              "    <tr>\n",
              "      <th>998</th>\n",
              "      <td>VeggieFarmers</td>\n",
              "      <td>Rice 5kg</td>\n",
              "      <td>2025-06-19</td>\n",
              "      <td>2025-06-23</td>\n",
              "      <td>2025-06-26</td>\n",
              "      <td>New York</td>\n",
              "      <td>75</td>\n",
              "    </tr>\n",
              "    <tr>\n",
              "      <th>999</th>\n",
              "      <td>VeggieFarmers</td>\n",
              "      <td>Rice 5kg</td>\n",
              "      <td>2025-06-05</td>\n",
              "      <td>2025-06-08</td>\n",
              "      <td>2025-06-07</td>\n",
              "      <td>San Francisco</td>\n",
              "      <td>267</td>\n",
              "    </tr>\n",
              "  </tbody>\n",
              "</table>\n",
              "<p>1000 rows × 7 columns</p>\n",
              "</div>\n",
              "    <div class=\"colab-df-buttons\">\n",
              "\n",
              "  <div class=\"colab-df-container\">\n",
              "    <button class=\"colab-df-convert\" onclick=\"convertToInteractive('df-a75a9358-305b-4862-81f2-03bce4d2ee44')\"\n",
              "            title=\"Convert this dataframe to an interactive table.\"\n",
              "            style=\"display:none;\">\n",
              "\n",
              "  <svg xmlns=\"http://www.w3.org/2000/svg\" height=\"24px\" viewBox=\"0 -960 960 960\">\n",
              "    <path d=\"M120-120v-720h720v720H120Zm60-500h600v-160H180v160Zm220 220h160v-160H400v160Zm0 220h160v-160H400v160ZM180-400h160v-160H180v160Zm440 0h160v-160H620v160ZM180-180h160v-160H180v160Zm440 0h160v-160H620v160Z\"/>\n",
              "  </svg>\n",
              "    </button>\n",
              "\n",
              "  <style>\n",
              "    .colab-df-container {\n",
              "      display:flex;\n",
              "      gap: 12px;\n",
              "    }\n",
              "\n",
              "    .colab-df-convert {\n",
              "      background-color: #E8F0FE;\n",
              "      border: none;\n",
              "      border-radius: 50%;\n",
              "      cursor: pointer;\n",
              "      display: none;\n",
              "      fill: #1967D2;\n",
              "      height: 32px;\n",
              "      padding: 0 0 0 0;\n",
              "      width: 32px;\n",
              "    }\n",
              "\n",
              "    .colab-df-convert:hover {\n",
              "      background-color: #E2EBFA;\n",
              "      box-shadow: 0px 1px 2px rgba(60, 64, 67, 0.3), 0px 1px 3px 1px rgba(60, 64, 67, 0.15);\n",
              "      fill: #174EA6;\n",
              "    }\n",
              "\n",
              "    .colab-df-buttons div {\n",
              "      margin-bottom: 4px;\n",
              "    }\n",
              "\n",
              "    [theme=dark] .colab-df-convert {\n",
              "      background-color: #3B4455;\n",
              "      fill: #D2E3FC;\n",
              "    }\n",
              "\n",
              "    [theme=dark] .colab-df-convert:hover {\n",
              "      background-color: #434B5C;\n",
              "      box-shadow: 0px 1px 3px 1px rgba(0, 0, 0, 0.15);\n",
              "      filter: drop-shadow(0px 1px 2px rgba(0, 0, 0, 0.3));\n",
              "      fill: #FFFFFF;\n",
              "    }\n",
              "  </style>\n",
              "\n",
              "    <script>\n",
              "      const buttonEl =\n",
              "        document.querySelector('#df-a75a9358-305b-4862-81f2-03bce4d2ee44 button.colab-df-convert');\n",
              "      buttonEl.style.display =\n",
              "        google.colab.kernel.accessAllowed ? 'block' : 'none';\n",
              "\n",
              "      async function convertToInteractive(key) {\n",
              "        const element = document.querySelector('#df-a75a9358-305b-4862-81f2-03bce4d2ee44');\n",
              "        const dataTable =\n",
              "          await google.colab.kernel.invokeFunction('convertToInteractive',\n",
              "                                                    [key], {});\n",
              "        if (!dataTable) return;\n",
              "\n",
              "        const docLinkHtml = 'Like what you see? Visit the ' +\n",
              "          '<a target=\"_blank\" href=https://colab.research.google.com/notebooks/data_table.ipynb>data table notebook</a>'\n",
              "          + ' to learn more about interactive tables.';\n",
              "        element.innerHTML = '';\n",
              "        dataTable['output_type'] = 'display_data';\n",
              "        await google.colab.output.renderOutput(dataTable, element);\n",
              "        const docLink = document.createElement('div');\n",
              "        docLink.innerHTML = docLinkHtml;\n",
              "        element.appendChild(docLink);\n",
              "      }\n",
              "    </script>\n",
              "  </div>\n",
              "\n",
              "\n",
              "    <div id=\"df-742ec044-bbe9-4226-b72d-bbeda2d4b00d\">\n",
              "      <button class=\"colab-df-quickchart\" onclick=\"quickchart('df-742ec044-bbe9-4226-b72d-bbeda2d4b00d')\"\n",
              "                title=\"Suggest charts\"\n",
              "                style=\"display:none;\">\n",
              "\n",
              "<svg xmlns=\"http://www.w3.org/2000/svg\" height=\"24px\"viewBox=\"0 0 24 24\"\n",
              "     width=\"24px\">\n",
              "    <g>\n",
              "        <path d=\"M19 3H5c-1.1 0-2 .9-2 2v14c0 1.1.9 2 2 2h14c1.1 0 2-.9 2-2V5c0-1.1-.9-2-2-2zM9 17H7v-7h2v7zm4 0h-2V7h2v10zm4 0h-2v-4h2v4z\"/>\n",
              "    </g>\n",
              "</svg>\n",
              "      </button>\n",
              "\n",
              "<style>\n",
              "  .colab-df-quickchart {\n",
              "      --bg-color: #E8F0FE;\n",
              "      --fill-color: #1967D2;\n",
              "      --hover-bg-color: #E2EBFA;\n",
              "      --hover-fill-color: #174EA6;\n",
              "      --disabled-fill-color: #AAA;\n",
              "      --disabled-bg-color: #DDD;\n",
              "  }\n",
              "\n",
              "  [theme=dark] .colab-df-quickchart {\n",
              "      --bg-color: #3B4455;\n",
              "      --fill-color: #D2E3FC;\n",
              "      --hover-bg-color: #434B5C;\n",
              "      --hover-fill-color: #FFFFFF;\n",
              "      --disabled-bg-color: #3B4455;\n",
              "      --disabled-fill-color: #666;\n",
              "  }\n",
              "\n",
              "  .colab-df-quickchart {\n",
              "    background-color: var(--bg-color);\n",
              "    border: none;\n",
              "    border-radius: 50%;\n",
              "    cursor: pointer;\n",
              "    display: none;\n",
              "    fill: var(--fill-color);\n",
              "    height: 32px;\n",
              "    padding: 0;\n",
              "    width: 32px;\n",
              "  }\n",
              "\n",
              "  .colab-df-quickchart:hover {\n",
              "    background-color: var(--hover-bg-color);\n",
              "    box-shadow: 0 1px 2px rgba(60, 64, 67, 0.3), 0 1px 3px 1px rgba(60, 64, 67, 0.15);\n",
              "    fill: var(--button-hover-fill-color);\n",
              "  }\n",
              "\n",
              "  .colab-df-quickchart-complete:disabled,\n",
              "  .colab-df-quickchart-complete:disabled:hover {\n",
              "    background-color: var(--disabled-bg-color);\n",
              "    fill: var(--disabled-fill-color);\n",
              "    box-shadow: none;\n",
              "  }\n",
              "\n",
              "  .colab-df-spinner {\n",
              "    border: 2px solid var(--fill-color);\n",
              "    border-color: transparent;\n",
              "    border-bottom-color: var(--fill-color);\n",
              "    animation:\n",
              "      spin 1s steps(1) infinite;\n",
              "  }\n",
              "\n",
              "  @keyframes spin {\n",
              "    0% {\n",
              "      border-color: transparent;\n",
              "      border-bottom-color: var(--fill-color);\n",
              "      border-left-color: var(--fill-color);\n",
              "    }\n",
              "    20% {\n",
              "      border-color: transparent;\n",
              "      border-left-color: var(--fill-color);\n",
              "      border-top-color: var(--fill-color);\n",
              "    }\n",
              "    30% {\n",
              "      border-color: transparent;\n",
              "      border-left-color: var(--fill-color);\n",
              "      border-top-color: var(--fill-color);\n",
              "      border-right-color: var(--fill-color);\n",
              "    }\n",
              "    40% {\n",
              "      border-color: transparent;\n",
              "      border-right-color: var(--fill-color);\n",
              "      border-top-color: var(--fill-color);\n",
              "    }\n",
              "    60% {\n",
              "      border-color: transparent;\n",
              "      border-right-color: var(--fill-color);\n",
              "    }\n",
              "    80% {\n",
              "      border-color: transparent;\n",
              "      border-right-color: var(--fill-color);\n",
              "      border-bottom-color: var(--fill-color);\n",
              "    }\n",
              "    90% {\n",
              "      border-color: transparent;\n",
              "      border-bottom-color: var(--fill-color);\n",
              "    }\n",
              "  }\n",
              "</style>\n",
              "\n",
              "      <script>\n",
              "        async function quickchart(key) {\n",
              "          const quickchartButtonEl =\n",
              "            document.querySelector('#' + key + ' button');\n",
              "          quickchartButtonEl.disabled = true;  // To prevent multiple clicks.\n",
              "          quickchartButtonEl.classList.add('colab-df-spinner');\n",
              "          try {\n",
              "            const charts = await google.colab.kernel.invokeFunction(\n",
              "                'suggestCharts', [key], {});\n",
              "          } catch (error) {\n",
              "            console.error('Error during call to suggestCharts:', error);\n",
              "          }\n",
              "          quickchartButtonEl.classList.remove('colab-df-spinner');\n",
              "          quickchartButtonEl.classList.add('colab-df-quickchart-complete');\n",
              "        }\n",
              "        (() => {\n",
              "          let quickchartButtonEl =\n",
              "            document.querySelector('#df-742ec044-bbe9-4226-b72d-bbeda2d4b00d button');\n",
              "          quickchartButtonEl.style.display =\n",
              "            google.colab.kernel.accessAllowed ? 'block' : 'none';\n",
              "        })();\n",
              "      </script>\n",
              "    </div>\n",
              "\n",
              "  <div id=\"id_1d0511b9-5cd5-49ef-8c2c-5a970338d869\">\n",
              "    <style>\n",
              "      .colab-df-generate {\n",
              "        background-color: #E8F0FE;\n",
              "        border: none;\n",
              "        border-radius: 50%;\n",
              "        cursor: pointer;\n",
              "        display: none;\n",
              "        fill: #1967D2;\n",
              "        height: 32px;\n",
              "        padding: 0 0 0 0;\n",
              "        width: 32px;\n",
              "      }\n",
              "\n",
              "      .colab-df-generate:hover {\n",
              "        background-color: #E2EBFA;\n",
              "        box-shadow: 0px 1px 2px rgba(60, 64, 67, 0.3), 0px 1px 3px 1px rgba(60, 64, 67, 0.15);\n",
              "        fill: #174EA6;\n",
              "      }\n",
              "\n",
              "      [theme=dark] .colab-df-generate {\n",
              "        background-color: #3B4455;\n",
              "        fill: #D2E3FC;\n",
              "      }\n",
              "\n",
              "      [theme=dark] .colab-df-generate:hover {\n",
              "        background-color: #434B5C;\n",
              "        box-shadow: 0px 1px 3px 1px rgba(0, 0, 0, 0.15);\n",
              "        filter: drop-shadow(0px 1px 2px rgba(0, 0, 0, 0.3));\n",
              "        fill: #FFFFFF;\n",
              "      }\n",
              "    </style>\n",
              "    <button class=\"colab-df-generate\" onclick=\"generateWithVariable('df')\"\n",
              "            title=\"Generate code using this dataframe.\"\n",
              "            style=\"display:none;\">\n",
              "\n",
              "  <svg xmlns=\"http://www.w3.org/2000/svg\" height=\"24px\"viewBox=\"0 0 24 24\"\n",
              "       width=\"24px\">\n",
              "    <path d=\"M7,19H8.4L18.45,9,17,7.55,7,17.6ZM5,21V16.75L18.45,3.32a2,2,0,0,1,2.83,0l1.4,1.43a1.91,1.91,0,0,1,.58,1.4,1.91,1.91,0,0,1-.58,1.4L9.25,21ZM18.45,9,17,7.55Zm-12,3A5.31,5.31,0,0,0,4.9,8.1,5.31,5.31,0,0,0,1,6.5,5.31,5.31,0,0,0,4.9,4.9,5.31,5.31,0,0,0,6.5,1,5.31,5.31,0,0,0,8.1,4.9,5.31,5.31,0,0,0,12,6.5,5.46,5.46,0,0,0,6.5,12Z\"/>\n",
              "  </svg>\n",
              "    </button>\n",
              "    <script>\n",
              "      (() => {\n",
              "      const buttonEl =\n",
              "        document.querySelector('#id_1d0511b9-5cd5-49ef-8c2c-5a970338d869 button.colab-df-generate');\n",
              "      buttonEl.style.display =\n",
              "        google.colab.kernel.accessAllowed ? 'block' : 'none';\n",
              "\n",
              "      buttonEl.onclick = () => {\n",
              "        google.colab.notebook.generateWithVariable('df');\n",
              "      }\n",
              "      })();\n",
              "    </script>\n",
              "  </div>\n",
              "\n",
              "    </div>\n",
              "  </div>\n"
            ],
            "application/vnd.google.colaboratory.intrinsic+json": {
              "type": "dataframe",
              "variable_name": "df",
              "summary": "{\n  \"name\": \"df\",\n  \"rows\": 1000,\n  \"fields\": [\n    {\n      \"column\": \"SUPPLIER_NAME\",\n      \"properties\": {\n        \"dtype\": \"category\",\n        \"num_unique_values\": 6,\n        \"samples\": [\n          \"FruitNova\",\n          \"GrainSupplies\",\n          \"ToothGoods\"\n        ],\n        \"semantic_type\": \"\",\n        \"description\": \"\"\n      }\n    },\n    {\n      \"column\": \"PRODUCT_NAME\",\n      \"properties\": {\n        \"dtype\": \"category\",\n        \"num_unique_values\": 6,\n        \"samples\": [\n          \"1L Milk\",\n          \"Toothpaste\",\n          \"Carrots 1kg\"\n        ],\n        \"semantic_type\": \"\",\n        \"description\": \"\"\n      }\n    },\n    {\n      \"column\": \"LAST_ORDER_DATE\",\n      \"properties\": {\n        \"dtype\": \"object\",\n        \"num_unique_values\": 28,\n        \"samples\": [\n          \"2025-06-22\",\n          \"2025-06-24\",\n          \"2025-06-03\"\n        ],\n        \"semantic_type\": \"\",\n        \"description\": \"\"\n      }\n    },\n    {\n      \"column\": \"EXPECTED_DELIVERY_DATE\",\n      \"properties\": {\n        \"dtype\": \"object\",\n        \"num_unique_values\": 31,\n        \"samples\": [\n          \"2025-07-01\",\n          \"2025-07-03\",\n          \"2025-06-17\"\n        ],\n        \"semantic_type\": \"\",\n        \"description\": \"\"\n      }\n    },\n    {\n      \"column\": \"ACTUAL_DELIVERY_DATE\",\n      \"properties\": {\n        \"dtype\": \"object\",\n        \"num_unique_values\": 35,\n        \"samples\": [\n          \"2025-06-06\",\n          \"2025-06-27\",\n          \"2025-06-12\"\n        ],\n        \"semantic_type\": \"\",\n        \"description\": \"\"\n      }\n    },\n    {\n      \"column\": \"SHIPPING_LOCATION\",\n      \"properties\": {\n        \"dtype\": \"category\",\n        \"num_unique_values\": 6,\n        \"samples\": [\n          \"Los Angeles\",\n          \"Dallas\",\n          \"Miami\"\n        ],\n        \"semantic_type\": \"\",\n        \"description\": \"\"\n      }\n    },\n    {\n      \"column\": \"ORDER_UNITS\",\n      \"properties\": {\n        \"dtype\": \"number\",\n        \"std\": 73,\n        \"min\": 50,\n        \"max\": 300,\n        \"num_unique_values\": 244,\n        \"samples\": [\n          220,\n          61,\n          296\n        ],\n        \"semantic_type\": \"\",\n        \"description\": \"\"\n      }\n    }\n  ]\n}"
            }
          },
          "metadata": {},
          "execution_count": 3
        }
      ]
    },
    {
      "cell_type": "code",
      "source": [
        "import pandas as pd\n",
        "import matplotlib.pyplot as plt\n",
        "import numpy as np\n",
        "import seaborn as sns\n",
        "from datetime import datetime\n",
        "\n",
        "# Set up clean, professional styling\n",
        "plt.style.use('default')\n",
        "sns.set_palette(\"Set2\")\n",
        "\n",
        "# Read the CSV file\n",
        "try:\n",
        "    # Try to read the file\n",
        "    df = pd.read_csv('supplier_delivery_logistics_1000.csv')\n",
        "    print(\"✅ Data loaded successfully!\")\n",
        "\n",
        "except Exception as e:\n",
        "    print(\"📁 Creating sample store supply data for demonstration...\")"
      ],
      "metadata": {
        "colab": {
          "base_uri": "https://localhost:8080/"
        },
        "id": "k8OYPF4NuOeO",
        "outputId": "55e3925a-b2a4-40c8-88d1-09f288d60319"
      },
      "execution_count": 9,
      "outputs": [
        {
          "output_type": "stream",
          "name": "stdout",
          "text": [
            "✅ Data loaded successfully!\n"
          ]
        }
      ]
    },
    {
      "cell_type": "code",
      "source": [
        "# Create realistic store supply data\n",
        "np.random.seed(42)\n",
        "n_records = 1000\n",
        "suppliers = ['Fresh Foods Co.', 'Quick Delivery Ltd.', 'Bulk Supplies Inc.', 'Local Distributors', 'Express Logistics']\n",
        "products = ['Groceries', 'Beverages', 'Cleaning Supplies', 'Personal Care', 'Household Items']\n",
        "\n",
        "df = pd.DataFrame({\n",
        "        'Supplier_Name': np.random.choice(suppliers, n_records),\n",
        "        'Product_Category': np.random.choice(products, n_records),\n",
        "        'Order_Value': np.random.uniform(500, 5000, n_records).round(2),\n",
        "        'Delivery_Days': np.random.randint(1, 10, n_records),\n",
        "        'On_Time_Delivery': np.random.choice(['Yes', 'No'], n_records, p=[0.8, 0.2]),\n",
        "        'Delivery_Cost': np.random.uniform(50, 300, n_records).round(2),\n",
        "        'Order_Quantity': np.random.randint(10, 200, n_records),\n",
        "        'Supplier_Rating': np.random.uniform(3.0, 5.0, n_records).round(1)\n",
        "    })"
      ],
      "metadata": {
        "id": "J-79ZuokuOgn"
      },
      "execution_count": 11,
      "outputs": []
    },
    {
      "cell_type": "code",
      "source": [
        "# Clean column names (remove spaces and make user-friendly)\n",
        "df.columns = [col.strip() for col in df.columns]\n",
        "\n",
        "print(f\"📊 Analyzing {len(df)} supply records...\")\n",
        "print(f\"📋 Available data: {', '.join(df.columns)}\")\n",
        "\n",
        "# Create the store manager dashboard\n",
        "fig = plt.figure(figsize=(16, 12))\n",
        "fig.suptitle('📈 STORE SUPPLY CHAIN DASHBOARD', fontsize=20, fontweight='bold', y=0.98)"
      ],
      "metadata": {
        "colab": {
          "base_uri": "https://localhost:8080/",
          "height": 141
        },
        "id": "kIVgGiFKuOjZ",
        "outputId": "92166867-16df-41e1-f4d2-0537747d013a"
      },
      "execution_count": 12,
      "outputs": [
        {
          "output_type": "stream",
          "name": "stdout",
          "text": [
            "📊 Analyzing 1000 supply records...\n",
            "📋 Available data: Supplier_Name, Product_Category, Order_Value, Delivery_Days, On_Time_Delivery, Delivery_Cost, Order_Quantity, Supplier_Rating\n"
          ]
        },
        {
          "output_type": "execute_result",
          "data": {
            "text/plain": [
              "Text(0.5, 0.98, '📈 STORE SUPPLY CHAIN DASHBOARD')"
            ]
          },
          "metadata": {},
          "execution_count": 12
        },
        {
          "output_type": "stream",
          "name": "stderr",
          "text": [
            "/usr/local/lib/python3.11/dist-packages/IPython/core/events.py:89: UserWarning: Glyph 128200 (\\N{CHART WITH UPWARDS TREND}) missing from font(s) DejaVu Sans.\n",
            "  func(*args, **kwargs)\n"
          ]
        },
        {
          "output_type": "display_data",
          "data": {
            "text/plain": [
              "<Figure size 1600x1200 with 0 Axes>"
            ]
          },
          "metadata": {}
        }
      ]
    },
    {
      "cell_type": "code",
      "source": [
        "# 1. Which suppliers deliver on time? (Most important for stores)\n",
        "plt.subplot(2, 3, 1)\n",
        "if 'On_Time_Delivery' in df.columns:\n",
        "    on_time = df['On_Time_Delivery'].value_counts()\n",
        "    colors = ['#2ecc71', '#e74c3c']  # Green for Yes, Red for No\n",
        "    plt.pie(on_time.values, labels=on_time.index, autopct='%1.1f%%',\n",
        "            colors=colors, startangle=90)\n",
        "    plt.title('⏰ ON-TIME DELIVERIES', fontsize=14, fontweight='bold')\n",
        "else:\n",
        "    plt.text(0.5, 0.5, 'No delivery status data', ha='center', va='center')\n",
        "    plt.title('⏰ ON-TIME DELIVERIES', fontsize=14, fontweight='bold')"
      ],
      "metadata": {
        "colab": {
          "base_uri": "https://localhost:8080/",
          "height": 295
        },
        "id": "D-eEfjD5uOmD",
        "outputId": "4281e976-c7ff-4ba9-e1e6-7457d0840ee3"
      },
      "execution_count": 13,
      "outputs": [
        {
          "output_type": "stream",
          "name": "stderr",
          "text": [
            "/usr/local/lib/python3.11/dist-packages/IPython/core/events.py:89: UserWarning: Glyph 9200 (\\N{ALARM CLOCK}) missing from font(s) DejaVu Sans.\n",
            "  func(*args, **kwargs)\n",
            "/usr/local/lib/python3.11/dist-packages/IPython/core/pylabtools.py:151: UserWarning: Glyph 9200 (\\N{ALARM CLOCK}) missing from font(s) DejaVu Sans.\n",
            "  fig.canvas.print_figure(bytes_io, **kw)\n"
          ]
        },
        {
          "output_type": "display_data",
          "data": {
            "text/plain": [
              "<Figure size 640x480 with 1 Axes>"
            ],
            "image/png": "[encoded data removed]"
          },
          "metadata": {}
        }
      ]
    },
    {
      "cell_type": "code",
      "source": [
        "plt.subplot(2, 3, 2)\n",
        "supplier_col = [col for col in df.columns if 'supplier' in col.lower()][0] if any('supplier' in col.lower() for col in df.columns) else df.columns[0]\n",
        "supplier_performance = df.groupby(supplier_col).size().sort_values(ascending=True)\n",
        "supplier_performance.plot(kind='barh', color='skyblue')\n",
        "plt.title('📦 ORDERS BY SUPPLIER', fontsize=14, fontweight='bold')\n",
        "plt.xlabel('Number of Orders')\n",
        "plt.tight_layout()"
      ],
      "metadata": {
        "colab": {
          "base_uri": "https://localhost:8080/",
          "height": 411
        },
        "id": "Z5JuZWZ-uOps",
        "outputId": "a0722126-1f95-457b-8b67-408b293c81f4"
      },
      "execution_count": 14,
      "outputs": [
        {
          "output_type": "stream",
          "name": "stderr",
          "text": [
            "/tmp/ipython-input-14-241555458.py:7: UserWarning: Glyph 128230 (\\N{PACKAGE}) missing from font(s) DejaVu Sans.\n",
            "  plt.tight_layout()\n",
            "/usr/local/lib/python3.11/dist-packages/IPython/core/events.py:89: UserWarning: Glyph 128230 (\\N{PACKAGE}) missing from font(s) DejaVu Sans.\n",
            "  func(*args, **kwargs)\n",
            "/usr/local/lib/python3.11/dist-packages/IPython/core/pylabtools.py:151: UserWarning: Glyph 128230 (\\N{PACKAGE}) missing from font(s) DejaVu Sans.\n",
            "  fig.canvas.print_figure(bytes_io, **kw)\n"
          ]
        },
        {
          "output_type": "display_data",
          "data": {
            "text/plain": [
              "<Figure size 640x480 with 1 Axes>"
            ],
            "image/png": "[encoded data removed]"
          },
          "metadata": {}
        }
      ]
    },
    {
      "cell_type": "code",
      "source": [
        "# 3. How much are we spending? (Cost analysis)\n",
        "plt.subplot(2, 3, 3)\n",
        "cost_cols = [col for col in df.columns if any(word in col.lower() for word in ['cost', 'value', 'price', 'amount'])]\n",
        "if cost_cols:\n",
        "    cost_col = cost_cols[0]\n",
        "    monthly_spend = df[cost_col].sum()\n",
        "    avg_order = df[cost_col].mean()\n",
        "\n",
        "    plt.bar(['Total Spending', 'Avg Order Value'], [monthly_spend, avg_order],\n",
        "            color=['#3498db', '#f39c12'])\n",
        "    plt.title('💰 SPENDING OVERVIEW', fontsize=14, fontweight='bold')\n",
        "    plt.ylabel('Amount ($)')\n",
        "\n",
        "    # Add value labels on bars\n",
        "    for i, v in enumerate([monthly_spend, avg_order]):\n",
        "        plt.text(i, v + max(monthly_spend, avg_order) * 0.01, f'${v:,.0f}',\n",
        "                ha='center', fontweight='bold')\n",
        "else:\n",
        "    plt.text(0.5, 0.5, 'No cost data available', ha='center', va='center')\n",
        "    plt.title('💰 SPENDING OVERVIEW', fontsize=14, fontweight='bold')"
      ],
      "metadata": {
        "colab": {
          "base_uri": "https://localhost:8080/",
          "height": 356
        },
        "id": "iLfv4VUlxmYG",
        "outputId": "82cb6d7c-31c4-4cf1-9a00-d2938a85dd13"
      },
      "execution_count": 15,
      "outputs": [
        {
          "output_type": "stream",
          "name": "stderr",
          "text": [
            "/usr/local/lib/python3.11/dist-packages/IPython/core/events.py:89: UserWarning: Glyph 128176 (\\N{MONEY BAG}) missing from font(s) DejaVu Sans.\n",
            "  func(*args, **kwargs)\n",
            "/usr/local/lib/python3.11/dist-packages/IPython/core/pylabtools.py:151: UserWarning: Glyph 128176 (\\N{MONEY BAG}) missing from font(s) DejaVu Sans.\n",
            "  fig.canvas.print_figure(bytes_io, **kw)\n"
          ]
        },
        {
          "output_type": "display_data",
          "data": {
            "text/plain": [
              "<Figure size 640x480 with 1 Axes>"
            ],
            "image/png": "[encoded data removed]"
          },
          "metadata": {}
        }
      ]
    },
    {
      "cell_type": "code",
      "source": [
        "# 4. How fast do suppliers deliver? (Delivery speed)\n",
        "plt.subplot(2, 3, 4)\n",
        "delivery_cols = [col for col in df.columns if any(word in col.lower() for word in ['delivery', 'days', 'time'])]\n",
        "if delivery_cols:\n",
        "    delivery_col = delivery_cols[0]\n",
        "    plt.hist(df[delivery_col], bins=15, color='lightgreen', alpha=0.7, edgecolor='black')\n",
        "    plt.title('🚚 DELIVERY SPEED', fontsize=14, fontweight='bold')\n",
        "    plt.xlabel('Days to Deliver')\n",
        "    plt.ylabel('Number of Orders')\n",
        "\n",
        "    # Add average line\n",
        "    avg_delivery = df[delivery_col].mean()\n",
        "    plt.axvline(avg_delivery, color='red', linestyle='--', linewidth=2)\n",
        "    plt.text(avg_delivery + 0.5, plt.ylim()[1] * 0.8, f'Avg: {avg_delivery:.1f} days',\n",
        "             color='red', fontweight='bold')\n",
        "else:\n",
        "    plt.text(0.5, 0.5, 'No delivery time data', ha='center', va='center')\n",
        "    plt.title('🚚 DELIVERY SPEED', fontsize=14, fontweight='bold')"
      ],
      "metadata": {
        "colab": {
          "base_uri": "https://localhost:8080/",
          "height": 360
        },
        "id": "TfvogEugxtri",
        "outputId": "cc101c88-d8bb-4f9f-a367-f4055ed86c1e"
      },
      "execution_count": 16,
      "outputs": [
        {
          "output_type": "stream",
          "name": "stderr",
          "text": [
            "/usr/local/lib/python3.11/dist-packages/IPython/core/events.py:89: UserWarning: Glyph 128666 (\\N{DELIVERY TRUCK}) missing from font(s) DejaVu Sans.\n",
            "  func(*args, **kwargs)\n",
            "/usr/local/lib/python3.11/dist-packages/IPython/core/pylabtools.py:151: UserWarning: Glyph 128666 (\\N{DELIVERY TRUCK}) missing from font(s) DejaVu Sans.\n",
            "  fig.canvas.print_figure(bytes_io, **kw)\n"
          ]
        },
        {
          "output_type": "display_data",
          "data": {
            "text/plain": [
              "<Figure size 640x480 with 1 Axes>"
            ],
            "image/png": "[encoded data removed]"
          },
          "metadata": {}
        }
      ]
    },
    {
      "cell_type": "code",
      "source": [
        "# 5. What products are we ordering most? (Product analysis)\n",
        "plt.subplot(2, 3, 5)\n",
        "product_cols = [col for col in df.columns if any(word in col.lower() for word in ['product', 'category', 'item'])]\n",
        "if product_cols:\n",
        "    product_col = product_cols[0]\n",
        "    top_products = df[product_col].value_counts().head(5)\n",
        "    plt.bar(range(len(top_products)), top_products.values, color='coral')\n",
        "    plt.title('📋 TOP PRODUCT CATEGORIES', fontsize=14, fontweight='bold')\n",
        "    plt.xlabel('Product Category')\n",
        "    plt.ylabel('Number of Orders')\n",
        "    plt.xticks(range(len(top_products)), top_products.index, rotation=45)\n",
        "else:\n",
        "    plt.text(0.5, 0.5, 'No product data available', ha='center', va='center')\n",
        "    plt.title('📋 TOP PRODUCT CATEGORIES', fontsize=14, fontweight='bold')"
      ],
      "metadata": {
        "colab": {
          "base_uri": "https://localhost:8080/",
          "height": 444
        },
        "id": "vMBiAEgmx2pO",
        "outputId": "33e8205a-f396-4e13-b7d0-34b5cfcbe91b"
      },
      "execution_count": 18,
      "outputs": [
        {
          "output_type": "stream",
          "name": "stderr",
          "text": [
            "/usr/local/lib/python3.11/dist-packages/IPython/core/events.py:89: UserWarning: Glyph 128203 (\\N{CLIPBOARD}) missing from font(s) DejaVu Sans.\n",
            "  func(*args, **kwargs)\n",
            "/usr/local/lib/python3.11/dist-packages/IPython/core/pylabtools.py:151: UserWarning: Glyph 128203 (\\N{CLIPBOARD}) missing from font(s) DejaVu Sans.\n",
            "  fig.canvas.print_figure(bytes_io, **kw)\n"
          ]
        },
        {
          "output_type": "display_data",
          "data": {
            "text/plain": [
              "<Figure size 640x480 with 1 Axes>"
            ],
            "image/png": "[encoded data removed]"
          },
          "metadata": {}
        }
      ]
    },
    {
      "cell_type": "code",
      "source": [
        "# 6. Supplier comparison (Which supplier is best?)\n",
        "plt.subplot(2, 3, 6)\n",
        "if len(df.columns) >= 2:\n",
        "    # Create a simple supplier comparison\n",
        "    supplier_summary = df.groupby(supplier_col).agg({\n",
        "        df.columns[1]: 'count',  # Number of orders\n",
        "        cost_cols[0] if cost_cols else df.columns[2]: 'mean'  # Average cost\n",
        "    }).round(2)\n",
        "\n",
        "    if len(supplier_summary) > 0:\n",
        "        # Plot average order value by supplier\n",
        "        supplier_summary.iloc[:, 1].plot(kind='bar', color='gold')\n",
        "        plt.title('⭐ SUPPLIER COMPARISON', fontsize=14, fontweight='bold')\n",
        "        plt.ylabel('Average Order Value ($)')\n",
        "        plt.xticks(rotation=45)\n",
        "else:\n",
        "    plt.text(0.5, 0.5, 'Insufficient data for comparison', ha='center', va='center')\n",
        "    plt.title('⭐ SUPPLIER COMPARISON', fontsize=14, fontweight='bold')\n",
        "\n",
        "plt.tight_layout()\n",
        "plt.show()"
      ],
      "metadata": {
        "colab": {
          "base_uri": "https://localhost:8080/",
          "height": 456
        },
        "id": "XUekiQttx8nV",
        "outputId": "9c2c7990-02ea-402e-f224-f7f8e7cc1f73"
      },
      "execution_count": 19,
      "outputs": [
        {
          "output_type": "stream",
          "name": "stderr",
          "text": [
            "/tmp/ipython-input-19-1835727762.py:20: UserWarning: Glyph 11088 (\\N{WHITE MEDIUM STAR}) missing from font(s) DejaVu Sans.\n",
            "  plt.tight_layout()\n",
            "/usr/local/lib/python3.11/dist-packages/IPython/core/pylabtools.py:151: UserWarning: Glyph 11088 (\\N{WHITE MEDIUM STAR}) missing from font(s) DejaVu Sans.\n",
            "  fig.canvas.print_figure(bytes_io, **kw)\n",
            "/usr/local/lib/python3.11/dist-packages/IPython/core/pylabtools.py:151: UserWarning: Glyph 11088 (\\N{WHITE MEDIUM STAR}) missing from font(s) DejaVu Sans.\n",
            "  fig.canvas.print_figure(bytes_io, **kw)\n"
          ]
        },
        {
          "output_type": "display_data",
          "data": {
            "text/plain": [
              "<Figure size 640x480 with 1 Axes>"
            ],
            "image/png": "[encoded data removed]"
          },
          "metadata": {}
        }
      ]
    },
    {
      "cell_type": "code",
      "source": [
        "# Print easy-to-understand summary for store managers\n",
        "print(\"\\n\" + \"=\"*60)\n",
        "print(\"🎯 QUICK INSIGHTS FOR STORE MANAGEMENT\")\n",
        "print(\"=\"*60)\n",
        "\n",
        "print(f\"📊 Total Orders Analyzed: {len(df):,}\")\n",
        "\n",
        "# On-time delivery rate\n",
        "if 'On_Time_Delivery' in df.columns:\n",
        "    on_time_rate = (df['On_Time_Delivery'] == 'Yes').mean() * 100\n",
        "    print(f\"⏰ On-Time Delivery Rate: {on_time_rate:.1f}%\")\n",
        "    if on_time_rate < 80:\n",
        "        print(\"   ⚠️  WARNING: Low on-time delivery rate!\")\n",
        "\n",
        "# Average delivery time\n",
        "if delivery_cols:\n",
        "    avg_delivery = df[delivery_cols[0]].mean()\n",
        "    print(f\"🚚 Average Delivery Time: {avg_delivery:.1f} days\")\n",
        "\n",
        "# Spending insights\n",
        "if cost_cols:\n",
        "    total_spend = df[cost_cols[0]].sum()\n",
        "    avg_order = df[cost_cols[0]].mean()\n",
        "    print(f\"💰 Total Spending: ${total_spend:,.2f}\")\n",
        "    print(f\"💰 Average Order Value: ${avg_order:,.2f}\")\n",
        "\n",
        "# Best and worst suppliers\n",
        "print(f\"\\n📦 SUPPLIER PERFORMANCE:\")\n",
        "supplier_orders = df.groupby(supplier_col).size().sort_values(ascending=False)\n",
        "print(f\"🥇 Most Used Supplier: {supplier_orders.index[0]} ({supplier_orders.iloc[0]} orders)\")\n",
        "print(f\"🥉 Least Used Supplier: {supplier_orders.index[-1]} ({supplier_orders.iloc[-1]} orders)\")\n",
        "\n",
        "# Product insights\n",
        "if product_cols:\n",
        "    top_category = df[product_cols[0]].value_counts().index[0]\n",
        "    print(f\"📋 Top Product Category: {top_category}\")\n",
        "\n",
        "print(\"\\n\" + \"=\"*60)\n",
        "print(\"💡 RECOMMENDATIONS:\")\n",
        "print(\"=\"*60)\n",
        "\n",
        "if 'On_Time_Delivery' in df.columns:\n",
        "    late_suppliers = df[df['On_Time_Delivery'] == 'No'][supplier_col].value_counts()\n",
        "    if len(late_suppliers) > 0:\n",
        "        print(f\"⚠️  Consider reviewing performance with: {late_suppliers.index[0]}\")\n",
        "\n",
        "if delivery_cols and df[delivery_cols[0]].mean() > 5:\n",
        "    print(\"📈 Look for faster suppliers - current delivery time is high\")\n",
        "\n",
        "if cost_cols:\n",
        "    expensive_suppliers = df.groupby(supplier_col)[cost_cols[0]].mean().sort_values(ascending=False)\n",
        "    print(f\"💡 Most expensive supplier: {expensive_suppliers.index[0]} (${expensive_suppliers.iloc[0]:.2f} avg)\")\n",
        "    print(f\"💡 Most economical supplier: {expensive_suppliers.index[-1]} (${expensive_suppliers.iloc[-1]:.2f} avg)\")\n"
      ],
      "metadata": {
        "colab": {
          "base_uri": "https://localhost:8080/"
        },
        "id": "hNsJO2WoyDIB",
        "outputId": "9672e72a-e2f0-4b39-a493-af9f70d13ac1"
      },
      "execution_count": 21,
      "outputs": [
        {
          "output_type": "stream",
          "name": "stdout",
          "text": [
            "\n",
            "============================================================\n",
            "🎯 QUICK INSIGHTS FOR STORE MANAGEMENT\n",
            "============================================================\n",
            "📊 Total Orders Analyzed: 1,000\n",
            "⏰ On-Time Delivery Rate: 81.1%\n",
            "🚚 Average Delivery Time: 5.0 days\n",
            "💰 Total Spending: $2,753,947.89\n",
            "💰 Average Order Value: $2,753.95\n",
            "\n",
            "📦 SUPPLIER PERFORMANCE:\n",
            "🥇 Most Used Supplier: Fresh Foods Co. (210 orders)\n",
            "🥉 Least Used Supplier: Quick Delivery Ltd. (190 orders)\n",
            "📋 Top Product Category: Beverages\n",
            "\n",
            "============================================================\n",
            "💡 RECOMMENDATIONS:\n",
            "============================================================\n",
            "⚠️  Consider reviewing performance with: Bulk Supplies Inc.\n",
            "💡 Most expensive supplier: Bulk Supplies Inc. ($2839.22 avg)\n",
            "💡 Most economical supplier: Quick Delivery Ltd. ($2659.74 avg)\n"
          ]
        }
      ]
    },
    {
      "cell_type": "code",
      "source": [],
      "metadata": {
        "id": "-OqxmRtPyHjF"
      },
      "execution_count": null,
      "outputs": []
    }
  ]
}